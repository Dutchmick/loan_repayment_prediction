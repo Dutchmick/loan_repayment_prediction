{
 "cells": [
  {
   "cell_type": "markdown",
   "metadata": {},
   "source": [
    "# Objective\n",
    "Clean data for case study of a prediction model that can be used to evaluate loan repayment behaviour of currently excluded customers of formal financial services\n",
    "https://www.kaggle.com/c/home-credit-default-risk/data"
   ]
  },
  {
   "cell_type": "markdown",
   "metadata": {},
   "source": [
    "# Preparation"
   ]
  },
  {
   "cell_type": "code",
   "execution_count": 1,
   "metadata": {},
   "outputs": [],
   "source": [
    "import numpy as np\n",
    "import pandas as pd\n",
    "import matplotlib.pyplot as plt\n",
    "import seaborn as sns\n",
    "import os\n",
    "from zipfile import ZipFile\n",
    "from sklearn import preprocessing\n",
    "from sklearn.linear_model import LogisticRegression\n",
    "from sklearn.preprocessing import StandardScaler\n",
    "from statsmodels.stats.outliers_influence import variance_inflation_factor\n",
    "from sklearn.model_selection import train_test_split"
   ]
  },
  {
   "cell_type": "code",
   "execution_count": 2,
   "metadata": {},
   "outputs": [],
   "source": [
    "%load_ext pycodestyle_magic\n",
    "%flake8_on\n",
    "%matplotlib inline"
   ]
  },
  {
   "cell_type": "markdown",
   "metadata": {},
   "source": [
    "### Create folder structure"
   ]
  },
  {
   "cell_type": "code",
   "execution_count": 3,
   "metadata": {},
   "outputs": [],
   "source": [
    "# Make root folder the current working directory\n",
    "os.chdir('..')"
   ]
  },
  {
   "cell_type": "code",
   "execution_count": 4,
   "metadata": {},
   "outputs": [],
   "source": [
    "input_folder = './data/raw/'"
   ]
  },
  {
   "cell_type": "code",
   "execution_count": 5,
   "metadata": {},
   "outputs": [],
   "source": [
    "cleaned_folder = './data/processed/basic/'"
   ]
  },
  {
   "cell_type": "code",
   "execution_count": 6,
   "metadata": {},
   "outputs": [],
   "source": [
    "output_folder = './reports/figures/basic/'"
   ]
  },
  {
   "cell_type": "markdown",
   "metadata": {},
   "source": [
    "## Data import"
   ]
  },
  {
   "cell_type": "markdown",
   "metadata": {},
   "source": [
    "With the objective of creating a model that can be applied to the financially excluded, I deselected columns with data related to credit bureau, bank related data and formal loans.\n",
    "\n",
    "The data dictionary can be found here:\n",
    "https://www.kaggle.com/c/home-credit-default-risk/data?select=HomeCredit_columns_description.csv"
   ]
  },
  {
   "cell_type": "code",
   "execution_count": 7,
   "metadata": {},
   "outputs": [],
   "source": [
    "# Select columns which can be used by financially excluded\n",
    "column_selection = ['SK_ID_CURR', 'TARGET', 'NAME_CONTRACT_TYPE',\n",
    "                    'CODE_GENDER', 'FLAG_OWN_CAR', 'FLAG_OWN_REALTY',\n",
    "                    'CNT_CHILDREN', 'NAME_TYPE_SUITE', 'NAME_INCOME_TYPE',\n",
    "                    'NAME_EDUCATION_TYPE', 'NAME_FAMILY_STATUS',\n",
    "                    'NAME_HOUSING_TYPE', 'REGION_POPULATION_RELATIVE',\n",
    "                    'DAYS_BIRTH', 'DAYS_EMPLOYED', 'DAYS_REGISTRATION',\n",
    "                    'DAYS_ID_PUBLISH', 'OWN_CAR_AGE', 'FLAG_MOBIL',\n",
    "                    'FLAG_EMP_PHONE', 'FLAG_WORK_PHONE', 'FLAG_CONT_MOBILE',\n",
    "                    'FLAG_PHONE', 'FLAG_EMAIL', 'OCCUPATION_TYPE',\n",
    "                    'CNT_FAM_MEMBERS', 'REGION_RATING_CLIENT',\n",
    "                    'REGION_RATING_CLIENT_W_CITY', 'WEEKDAY_APPR_PROCESS_START',\n",
    "                    'HOUR_APPR_PROCESS_START', 'REG_REGION_NOT_LIVE_REGION',\n",
    "                    'REG_REGION_NOT_WORK_REGION', 'LIVE_REGION_NOT_WORK_REGION',\n",
    "                    'REG_CITY_NOT_LIVE_CITY', 'REG_CITY_NOT_WORK_CITY',\n",
    "                    'LIVE_CITY_NOT_WORK_CITY', 'ORGANIZATION_TYPE',\n",
    "                    'APARTMENTS_AVG', 'BASEMENTAREA_AVG',\n",
    "                    'YEARS_BEGINEXPLUATATION_AVG', 'YEARS_BUILD_AVG',\n",
    "                    'COMMONAREA_AVG', 'ELEVATORS_AVG', 'ENTRANCES_AVG',\n",
    "                    'FLOORSMAX_AVG', 'FLOORSMIN_AVG', 'LANDAREA_AVG',\n",
    "                    'LIVINGAPARTMENTS_AVG', 'LIVINGAREA_AVG',\n",
    "                    'NONLIVINGAPARTMENTS_AVG', 'NONLIVINGAREA_AVG',\n",
    "                    'APARTMENTS_MODE', 'BASEMENTAREA_MODE',\n",
    "                    'YEARS_BEGINEXPLUATATION_MODE', 'YEARS_BUILD_MODE',\n",
    "                    'COMMONAREA_MODE', 'ELEVATORS_MODE', 'ENTRANCES_MODE',\n",
    "                    'FLOORSMAX_MODE', 'FLOORSMIN_MODE', 'LANDAREA_MODE',\n",
    "                    'LIVINGAPARTMENTS_MODE', 'LIVINGAREA_MODE',\n",
    "                    'NONLIVINGAPARTMENTS_MODE', 'NONLIVINGAREA_MODE',\n",
    "                    'APARTMENTS_MEDI', 'BASEMENTAREA_MEDI',\n",
    "                    'YEARS_BEGINEXPLUATATION_MEDI', 'YEARS_BUILD_MEDI',\n",
    "                    'COMMONAREA_MEDI', 'ELEVATORS_MEDI', 'ENTRANCES_MEDI',\n",
    "                    'FLOORSMAX_MEDI', 'FLOORSMIN_MEDI', 'LANDAREA_MEDI',\n",
    "                    'LIVINGAPARTMENTS_MEDI', 'LIVINGAREA_MEDI',\n",
    "                    'NONLIVINGAPARTMENTS_MEDI', 'NONLIVINGAREA_MEDI',\n",
    "                    'FONDKAPREMONT_MODE', 'HOUSETYPE_MODE', 'TOTALAREA_MODE',\n",
    "                    'WALLSMATERIAL_MODE', 'EMERGENCYSTATE_MODE',\n",
    "                    'OBS_30_CNT_SOCIAL_CIRCLE', 'DEF_30_CNT_SOCIAL_CIRCLE',\n",
    "                    'OBS_60_CNT_SOCIAL_CIRCLE', 'DEF_60_CNT_SOCIAL_CIRCLE',\n",
    "                    'DAYS_LAST_PHONE_CHANGE', 'FLAG_DOCUMENT_2',\n",
    "                    'FLAG_DOCUMENT_3', 'FLAG_DOCUMENT_4', 'FLAG_DOCUMENT_5',\n",
    "                    'FLAG_DOCUMENT_6', 'FLAG_DOCUMENT_7', 'FLAG_DOCUMENT_8',\n",
    "                    'FLAG_DOCUMENT_9', 'FLAG_DOCUMENT_10', 'FLAG_DOCUMENT_11',\n",
    "                    'FLAG_DOCUMENT_12', 'FLAG_DOCUMENT_13', 'FLAG_DOCUMENT_14',\n",
    "                    'FLAG_DOCUMENT_15', 'FLAG_DOCUMENT_16', 'FLAG_DOCUMENT_17',\n",
    "                    'FLAG_DOCUMENT_18', 'FLAG_DOCUMENT_19', 'FLAG_DOCUMENT_20',\n",
    "                    'FLAG_DOCUMENT_21', 'AMT_INCOME_TOTAL', 'AMT_CREDIT',\n",
    "                    'AMT_ANNUITY', 'AMT_GOODS_PRICE']"
   ]
  },
  {
   "cell_type": "code",
   "execution_count": 8,
   "metadata": {},
   "outputs": [],
   "source": [
    "zip_file = ZipFile(input_folder + 'home-credit-default-risk.zip')\n",
    "application_train_df = pd.read_csv(zip_file.open('application_train.csv'), usecols=column_selection)"
   ]
  },
  {
   "cell_type": "code",
   "execution_count": 9,
   "metadata": {},
   "outputs": [],
   "source": [
    "# Remove outcome column from test data\n",
    "column_selection.remove('TARGET')"
   ]
  },
  {
   "cell_type": "code",
   "execution_count": 10,
   "metadata": {},
   "outputs": [],
   "source": [
    "zip_file = ZipFile(input_folder + 'home-credit-default-risk.zip')\n",
    "application_test_df = pd.read_csv(zip_file.open('application_test.csv'), usecols=column_selection)"
   ]
  },
  {
   "cell_type": "code",
   "execution_count": 11,
   "metadata": {},
   "outputs": [],
   "source": [
    "zip_file = ZipFile(input_folder + 'home-credit-default-risk.zip')\n",
    "credit_card_df = pd.read_csv(zip_file.open('credit_card_balance.csv'), usecols=('SK_ID_CURR', 'NAME_CONTRACT_STATUS'))"
   ]
  },
  {
   "cell_type": "code",
   "execution_count": 12,
   "metadata": {},
   "outputs": [],
   "source": [
    "zip_file = ZipFile(input_folder + 'home-credit-default-risk.zip')\n",
    "bureau_df = pd.read_csv(zip_file.open('bureau.csv'), usecols=('SK_ID_CURR', 'CREDIT_ACTIVE'))"
   ]
  },
  {
   "cell_type": "markdown",
   "metadata": {},
   "source": [
    "# Data cleaning"
   ]
  },
  {
   "cell_type": "markdown",
   "metadata": {},
   "source": [
    "## Select financially excluded"
   ]
  },
  {
   "cell_type": "markdown",
   "metadata": {},
   "source": [
    "First step is to select unbanked customers to later evaluate that the ML model doesn't classify them as repayment risk. In the dataset there is no data available on whether the customer has a bank account, which is usually the first formal financial product people start using. Instead, we will be classifying someone as unbanked if there is no credit card or credit bureau information available."
   ]
  },
  {
   "cell_type": "code",
   "execution_count": 13,
   "metadata": {},
   "outputs": [],
   "source": [
    "ID_fin_included_df = list(credit_card_df['SK_ID_CURR']) + list(bureau_df['SK_ID_CURR'])\n",
    "ID_fin_included_df = list(dict.fromkeys(ID_fin_included_df))"
   ]
  },
  {
   "cell_type": "code",
   "execution_count": 14,
   "metadata": {},
   "outputs": [],
   "source": [
    "ID_all_applicants = application_train_df['SK_ID_CURR']\n",
    "ID_fin_excluded = list(set(list(ID_all_applicants)) - set(ID_fin_included_df))\n",
    "ID_fin_excluded_df = pd.DataFrame(ID_fin_excluded, columns=['SK_ID_CURR'])"
   ]
  },
  {
   "cell_type": "markdown",
   "metadata": {},
   "source": [
    "## General"
   ]
  },
  {
   "cell_type": "code",
   "execution_count": 15,
   "metadata": {},
   "outputs": [],
   "source": [
    "# Merge test and train data for cleaning with column to distinguish\n",
    "application_test_df['train'] = 0\n",
    "application_train_df['train'] = 1\n",
    "application_df = pd.concat([application_train_df, application_test_df]).reset_index(drop=True)"
   ]
  },
  {
   "cell_type": "code",
   "execution_count": 16,
   "metadata": {},
   "outputs": [],
   "source": [
    "application_test_df = application_test_df.copy()"
   ]
  },
  {
   "cell_type": "code",
   "execution_count": 17,
   "metadata": {},
   "outputs": [
    {
     "data": {
      "text/plain": [
       "(356255, 114)"
      ]
     },
     "execution_count": 17,
     "metadata": {},
     "output_type": "execute_result"
    }
   ],
   "source": [
    "application_df.shape"
   ]
  },
  {
   "cell_type": "markdown",
   "metadata": {},
   "source": [
    "## Continuous variables"
   ]
  },
  {
   "cell_type": "markdown",
   "metadata": {},
   "source": [
    "### Data transformations"
   ]
  },
  {
   "cell_type": "code",
   "execution_count": 19,
   "metadata": {},
   "outputs": [],
   "source": [
    "# Log transform variables as per EDA\n",
    "application_df['AMT_INCOME_TOTAL_log'] = np.log(application_df['AMT_INCOME_TOTAL'])\n",
    "application_df['AMT_CREDIT_log'] = np.log(application_df['AMT_CREDIT'])\n",
    "application_df['AMT_ANNUITY_log'] = np.log(application_df['AMT_ANNUITY'])\n",
    "application_df['AMT_GOODS_PRICE_log'] = np.log(application_df['AMT_GOODS_PRICE'])"
   ]
  },
  {
   "cell_type": "code",
   "execution_count": 20,
   "metadata": {},
   "outputs": [],
   "source": [
    "# Make negative values positive in preparation of log transformation\n",
    "# Remove zero values by adding 1\n",
    "application_df['DAYS_REGISTRATION'] = application_df['DAYS_REGISTRATION'] * -1 + 1\n",
    "application_df['DAYS_REGISTRATION_log'] = np.log(application_df['DAYS_REGISTRATION'])"
   ]
  },
  {
   "cell_type": "code",
   "execution_count": 21,
   "metadata": {},
   "outputs": [],
   "source": [
    "# Drop log transformed variables\n",
    "cols_to_drop = ['AMT_INCOME_TOTAL', 'AMT_CREDIT', 'AMT_ANNUITY', 'AMT_GOODS_PRICE', 'DAYS_REGISTRATION']\n",
    "application_df.drop(cols_to_drop, axis=1, inplace=True)"
   ]
  },
  {
   "cell_type": "markdown",
   "metadata": {},
   "source": [
    "### Outlier removal"
   ]
  },
  {
   "cell_type": "code",
   "execution_count": 22,
   "metadata": {},
   "outputs": [],
   "source": [
    "column_selection = list(application_df.select_dtypes(include=['float64']))"
   ]
  },
  {
   "cell_type": "markdown",
   "metadata": {},
   "source": [
    "## Categorical data"
   ]
  },
  {
   "cell_type": "code",
   "execution_count": 23,
   "metadata": {},
   "outputs": [],
   "source": [
    "application_df = application_df.copy()"
   ]
  },
  {
   "cell_type": "markdown",
   "metadata": {},
   "source": [
    "### Outlier removal"
   ]
  },
  {
   "cell_type": "code",
   "execution_count": 24,
   "metadata": {},
   "outputs": [
    {
     "name": "stderr",
     "output_type": "stream",
     "text": [
      "C:\\Users\\michiel.HEPSTAR\\AppData\\Local\\Continuum\\anaconda3a\\lib\\site-packages\\pandas\\core\\indexing.py:670: SettingWithCopyWarning: \n",
      "A value is trying to be set on a copy of a slice from a DataFrame\n",
      "\n",
      "See the caveats in the documentation: https://pandas.pydata.org/pandas-docs/stable/user_guide/indexing.html#returning-a-view-versus-a-copy\n",
      "  iloc._setitem_with_indexer(indexer, value)\n"
     ]
    }
   ],
   "source": [
    "# Recode organisation subcategories into one main category (eg 'Trade: type 6 -> 'Trade)\n",
    "column = application_df['ORGANIZATION_TYPE']\n",
    "types = ['Trade', 'Industry', 'Transport', 'Business']\n",
    "\n",
    "for item in types:\n",
    "    column.loc[column.str.startswith(item, na=False)] = item"
   ]
  },
  {
   "cell_type": "code",
   "execution_count": 25,
   "metadata": {},
   "outputs": [],
   "source": [
    "# Create 'Other' category for categorical outliers\n",
    "threshold = 0.01\n",
    "dataframe = application_df\n",
    "for col in dataframe[['ORGANIZATION_TYPE', 'OCCUPATION_TYPE', 'NAME_INCOME_TYPE']]:\n",
    "    value_counts = dataframe[col].value_counts(normalize=True)\n",
    "    below_threshold = value_counts[value_counts <= threshold].index.tolist()\n",
    "    dataframe[col].replace(to_replace=below_threshold, value=\"Other2\", inplace=True)"
   ]
  },
  {
   "cell_type": "code",
   "execution_count": 26,
   "metadata": {},
   "outputs": [],
   "source": [
    "# Remove rows with outlier categorical values\n",
    "column_selection = list(application_df.select_dtypes(include=['object']))\n",
    "threshold_percent = 0.01\n",
    "\n",
    "for columns in column_selection:\n",
    "    # Select rows falling below threshold\n",
    "    rows_below_threshold = application_df[application_df[columns].map(application_df[columns].value_counts(normalize=True, dropna=False) < threshold_percent)]\n",
    "    if len(rows_below_threshold.index) > 0:\n",
    "        application_df.drop(rows_below_threshold.index, inplace=True)\n",
    "    else:\n",
    "        continue"
   ]
  },
  {
   "cell_type": "markdown",
   "metadata": {},
   "source": [
    "## Missing data"
   ]
  },
  {
   "cell_type": "code",
   "execution_count": 27,
   "metadata": {},
   "outputs": [],
   "source": [
    "# drop features with 50% or more missing data\n",
    "missing_data = application_df.isna().sum() / application_df.isna().count() * 100\n",
    "features_missing = list(missing_data[missing_data > 50].keys())\n",
    "application_df.drop(features_missing, axis=1, inplace=True)"
   ]
  },
  {
   "cell_type": "code",
   "execution_count": 28,
   "metadata": {},
   "outputs": [
    {
     "data": {
      "text/plain": [
       "0"
      ]
     },
     "execution_count": 28,
     "metadata": {},
     "output_type": "execute_result"
    }
   ],
   "source": [
    "# Replace 'XNA' with the most frequent occuring gender response\n",
    "freq = application_df['CODE_GENDER'].value_counts().index.tolist()[0]\n",
    "application_df['CODE_GENDER'].replace('XNA', freq, inplace=False)\n",
    "application_df['CODE_GENDER'].isna().sum()"
   ]
  },
  {
   "cell_type": "code",
   "execution_count": 29,
   "metadata": {},
   "outputs": [
    {
     "data": {
      "text/plain": [
       "TARGET                      13.524264\n",
       "OCCUPATION_TYPE             31.841687\n",
       "TOTALAREA_MODE              49.748379\n",
       "EMERGENCYSTATE_MODE         48.866047\n",
       "OBS_30_CNT_SOCIAL_CIRCLE     0.294412\n",
       "DEF_30_CNT_SOCIAL_CIRCLE     0.294412\n",
       "OBS_60_CNT_SOCIAL_CIRCLE     0.294412\n",
       "DEF_60_CNT_SOCIAL_CIRCLE     0.294412\n",
       "DAYS_LAST_PHONE_CHANGE       0.000301\n",
       "AMT_ANNUITY_log              0.010547\n",
       "dtype: float64"
      ]
     },
     "execution_count": 29,
     "metadata": {},
     "output_type": "execute_result"
    }
   ],
   "source": [
    "# Calculate the missing data % in training data\n",
    "missing = application_df.isna().sum() / application_df.isna().count() * 100\n",
    "missing = missing[missing > 0]\n",
    "missing"
   ]
  },
  {
   "cell_type": "code",
   "execution_count": 30,
   "metadata": {},
   "outputs": [
    {
     "name": "stdout",
     "output_type": "stream",
     "text": [
      "Cases from the following columns were dropped: ['OBS_30_CNT_SOCIAL_CIRCLE', 'DEF_30_CNT_SOCIAL_CIRCLE', 'OBS_60_CNT_SOCIAL_CIRCLE', 'DEF_60_CNT_SOCIAL_CIRCLE', 'DAYS_LAST_PHONE_CHANGE', 'AMT_ANNUITY_log']\n"
     ]
    }
   ],
   "source": [
    "# Drop cases with between 0-1% of missing data\n",
    "minimal_missing = missing[(missing > 0) & (missing < 1)]\n",
    "minimal_missing = list(minimal_missing.index)\n",
    "application_df.dropna(axis=0, subset=minimal_missing, inplace=True)\n",
    "print(\"Cases from the following columns were dropped:\", minimal_missing)"
   ]
  },
  {
   "cell_type": "code",
   "execution_count": 31,
   "metadata": {},
   "outputs": [],
   "source": [
    "# Replace missing values in numerical columns with the median\n",
    "num_columns = list(application_df.select_dtypes(include=['float64']).columns)\n",
    "cols_nan = list(application_df[num_columns].columns[application_df[num_columns].isna().any()])\n",
    "cols_nan.remove('TARGET')\n",
    "\n",
    "for col in cols_nan:\n",
    "    application_df[col].fillna(application_df[col].median(), inplace=True)"
   ]
  },
  {
   "cell_type": "code",
   "execution_count": 32,
   "metadata": {},
   "outputs": [],
   "source": [
    "# Replace missing values in string+date columns with the mode\n",
    "cols = list(application_df.select_dtypes(include=['O', 'object', 'datetime64']).columns)\n",
    "cols_nan = list(application_df[cols].columns[application_df[cols].isna().any()])\n",
    "cols_nan\n",
    "for col in cols_nan:\n",
    "    application_df[col].fillna(application_df[col].mode().iloc[0], inplace=True)"
   ]
  },
  {
   "cell_type": "code",
   "execution_count": 33,
   "metadata": {},
   "outputs": [
    {
     "data": {
      "text/plain": [
       "TARGET    13.551166\n",
       "dtype: float64"
      ]
     },
     "execution_count": 33,
     "metadata": {},
     "output_type": "execute_result"
    }
   ],
   "source": [
    "# Check remaining missing data % in training data\n",
    "train_missing_data = application_df.isna().sum() / application_df.isna().count() * 100\n",
    "train_missing_data[train_missing_data > 0]"
   ]
  },
  {
   "cell_type": "markdown",
   "metadata": {},
   "source": [
    "## Dummify categorical variables"
   ]
  },
  {
   "cell_type": "code",
   "execution_count": 34,
   "metadata": {},
   "outputs": [
    {
     "data": {
      "text/plain": [
       "(330835, 68)"
      ]
     },
     "execution_count": 34,
     "metadata": {},
     "output_type": "execute_result"
    }
   ],
   "source": [
    "application_df.shape"
   ]
  },
  {
   "cell_type": "code",
   "execution_count": 35,
   "metadata": {},
   "outputs": [],
   "source": [
    "# Dummify categorical features\n",
    "column_selection = list(application_df.select_dtypes(include=['object']))\n",
    "# Create dummies of categorical features\n",
    "application_df = pd.get_dummies(application_df, columns=column_selection, drop_first=True)"
   ]
  },
  {
   "cell_type": "code",
   "execution_count": 36,
   "metadata": {},
   "outputs": [
    {
     "data": {
      "text/plain": [
       "(330835, 105)"
      ]
     },
     "execution_count": 36,
     "metadata": {},
     "output_type": "execute_result"
    }
   ],
   "source": [
    "application_df.shape"
   ]
  },
  {
   "cell_type": "markdown",
   "metadata": {},
   "source": [
    "# Feature creation"
   ]
  },
  {
   "cell_type": "markdown",
   "metadata": {},
   "source": [
    "## Feature loan % of  income"
   ]
  },
  {
   "cell_type": "code",
   "execution_count": 37,
   "metadata": {},
   "outputs": [],
   "source": [
    "application_df = application_df.copy()"
   ]
  },
  {
   "cell_type": "code",
   "execution_count": 38,
   "metadata": {},
   "outputs": [],
   "source": [
    "application_df['creditVSincome_log'] = application_df['AMT_CREDIT_log'] / application_df['AMT_INCOME_TOTAL_log']"
   ]
  },
  {
   "cell_type": "code",
   "execution_count": 39,
   "metadata": {},
   "outputs": [],
   "source": [
    "# Create a list of features\n",
    "all_columns = list(application_df.columns)\n",
    "no_feat = ['TARGET', 'SK_ID_CURR', 'train']\n",
    "features = list(filter(lambda x: x not in no_feat, all_columns))"
   ]
  },
  {
   "cell_type": "code",
   "execution_count": 40,
   "metadata": {},
   "outputs": [],
   "source": [
    "# assign y to dependent variable\n",
    "y = application_df['TARGET']"
   ]
  },
  {
   "cell_type": "code",
   "execution_count": 41,
   "metadata": {},
   "outputs": [],
   "source": [
    "absCorrWithDep = []\n",
    "\n",
    "for var in features:\n",
    "    absCorrWithDep.append(abs(y.corr(application_df[var])))"
   ]
  },
  {
   "cell_type": "code",
   "execution_count": 42,
   "metadata": {},
   "outputs": [],
   "source": [
    "feature_scores_df = pd.DataFrame()\n",
    "feature_scores_df['features'] = features\n",
    "feature_scores_df['scores'] = absCorrWithDep"
   ]
  },
  {
   "cell_type": "code",
   "execution_count": 43,
   "metadata": {},
   "outputs": [
    {
     "data": {
      "text/plain": [
       "<AxesSubplot:>"
      ]
     },
     "execution_count": 43,
     "metadata": {},
     "output_type": "execute_result"
    },
    {
     "data": {
      "image/png": "[encoded data removed]",
      "text/plain": [
       "<Figure size 432x288 with 1 Axes>"
      ]
     },
     "metadata": {
      "needs_background": "light"
     },
     "output_type": "display_data"
    }
   ],
   "source": [
    "feature_scores_df = feature_scores_df.sort_values(by='scores', ascending=False)\n",
    "feature_scores_df.plot.bar()"
   ]
  },
  {
   "cell_type": "code",
   "execution_count": 44,
   "metadata": {},
   "outputs": [],
   "source": [
    "feature_scores_df.drop_duplicates(subset=['scores'], keep='first', inplace=True)"
   ]
  },
  {
   "cell_type": "code",
   "execution_count": 45,
   "metadata": {},
   "outputs": [
    {
     "data": {
      "text/plain": [
       "15"
      ]
     },
     "execution_count": 45,
     "metadata": {},
     "output_type": "execute_result"
    }
   ],
   "source": [
    "threshold = 0.04\n",
    "feature_selection = list(feature_scores_df[feature_scores_df['scores'] > threshold]['features'])\n",
    "len(feature_selection)"
   ]
  },
  {
   "cell_type": "code",
   "execution_count": 46,
   "metadata": {},
   "outputs": [],
   "source": [
    "# Create final list with features and other required columns\n",
    "column_selection = feature_selection + no_feat\n",
    "application_df = application_df[column_selection]"
   ]
  },
  {
   "cell_type": "markdown",
   "metadata": {},
   "source": [
    "# Standardise features"
   ]
  },
  {
   "cell_type": "code",
   "execution_count": 47,
   "metadata": {},
   "outputs": [],
   "source": [
    "# Split test and train dataset\n",
    "train_df = application_df[application_df['train'] == 1].copy()\n",
    "test_df = application_df[application_df['train'] == 0].copy()\n",
    "\n",
    "train_df.drop(columns=['train'], inplace=True)\n",
    "test_df.drop(columns=['train'], inplace=True)"
   ]
  },
  {
   "cell_type": "code",
   "execution_count": 48,
   "metadata": {},
   "outputs": [],
   "source": [
    "# Split predictor and dependent variables\n",
    "predictor = 'TARGET'\n",
    "Y_train = train_df[predictor]\n",
    "X_train = train_df.drop(predictor, axis=1)\n",
    "test_df.drop(columns=predictor, inplace=True)"
   ]
  },
  {
   "cell_type": "code",
   "execution_count": 49,
   "metadata": {},
   "outputs": [],
   "source": [
    "# Create numpy array of SK_ID_CURR to later use for submission file\n",
    "test_ids_df = test_df['SK_ID_CURR']"
   ]
  },
  {
   "cell_type": "code",
   "execution_count": 50,
   "metadata": {},
   "outputs": [],
   "source": [
    "# Drop ID column\n",
    "test_df.drop(columns='SK_ID_CURR', inplace=True)\n",
    "X_train.drop(columns='SK_ID_CURR', inplace=True)"
   ]
  },
  {
   "cell_type": "code",
   "execution_count": 51,
   "metadata": {},
   "outputs": [],
   "source": [
    "# split the data into train and test datasets\n",
    "x_train, x_test, y_train, y_test = train_test_split(X_train, Y_train, test_size=0.3, random_state=10)"
   ]
  },
  {
   "cell_type": "code",
   "execution_count": 52,
   "metadata": {},
   "outputs": [],
   "source": [
    "# standardise the features\n",
    "ss = StandardScaler()\n",
    "x_train = pd.DataFrame(ss.fit_transform(x_train), columns=x_train.columns)\n",
    "x_test = pd.DataFrame(ss.fit_transform(x_test), columns=x_test.columns)\n",
    "test_df = pd.DataFrame(ss.fit_transform(test_df), columns=test_df.columns)"
   ]
  },
  {
   "cell_type": "markdown",
   "metadata": {},
   "source": [
    "# Data export"
   ]
  },
  {
   "cell_type": "code",
   "execution_count": 53,
   "metadata": {},
   "outputs": [],
   "source": [
    "# Export data to cleaned data folder\n",
    "x_train.to_csv(cleaned_folder + 'x_train.csv', index=False)\n",
    "x_test.to_csv(cleaned_folder + 'x_test.csv', index=False)\n",
    "y_train.to_csv(cleaned_folder + 'y_train.csv', index=False)\n",
    "y_test.to_csv(cleaned_folder + 'y_test.csv', index=False)\n",
    "test_df.to_csv(cleaned_folder + 'test_df.csv', index=False)\n",
    "test_ids_df.to_csv(cleaned_folder + 'test_ids_df.csv', index=False)\n",
    "ID_fin_excluded_df.to_csv(cleaned_folder + 'IDs_fin_excluded.csv', index=False)"
   ]
  }
 ],
 "metadata": {
  "kernelspec": {
   "display_name": "Python 3",
   "language": "python",
   "name": "python3"
  },
  "language_info": {
   "codemirror_mode": {
    "name": "ipython",
    "version": 3
   },
   "file_extension": ".py",
   "mimetype": "text/x-python",
   "name": "python",
   "nbconvert_exporter": "python",
   "pygments_lexer": "ipython3",
   "version": "3.6.12"
  }
 },
 "nbformat": 4,
 "nbformat_minor": 4
}
