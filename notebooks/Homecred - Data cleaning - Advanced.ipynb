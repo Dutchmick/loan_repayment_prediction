{
 "cells": [
  {
   "cell_type": "markdown",
   "metadata": {},
   "source": [
    "# Objective\n",
    "Clean data for case study of a prediction model that can be used to evaluate loan repayment behaviour of currently excluded customers of formal financial services\n",
    "https://www.kaggle.com/c/home-credit-default-risk/data"
   ]
  },
  {
   "cell_type": "markdown",
   "metadata": {},
   "source": [
    "# Preparation"
   ]
  },
  {
   "cell_type": "code",
   "execution_count": 1,
   "metadata": {},
   "outputs": [],
   "source": [
    "import numpy as np\n",
    "import pandas as pd\n",
    "import matplotlib.pyplot as plt\n",
    "import seaborn as sns\n",
    "import os\n",
    "from zipfile import ZipFile\n",
    "from itertools import combinations\n",
    "from sklearn.linear_model import LinearRegression\n",
    "from sklearn.neighbors import KNeighborsClassifier\n",
    "from sklearn import preprocessing\n",
    "from sklearn.preprocessing import PolynomialFeatures\n",
    "from sklearn.linear_model import LogisticRegression\n",
    "from sklearn.preprocessing import StandardScaler\n",
    "from statsmodels.stats.outliers_influence import variance_inflation_factor\n",
    "from sklearn.model_selection import train_test_split"
   ]
  },
  {
   "cell_type": "code",
   "execution_count": 2,
   "metadata": {},
   "outputs": [],
   "source": [
    "%load_ext pycodestyle_magic\n",
    "%flake8_on\n",
    "%matplotlib inline"
   ]
  },
  {
   "cell_type": "markdown",
   "metadata": {},
   "source": [
    "### Create folder structure"
   ]
  },
  {
   "cell_type": "code",
   "execution_count": 3,
   "metadata": {},
   "outputs": [],
   "source": [
    "# Make root folder the current working directory\n",
    "os.chdir('..')"
   ]
  },
  {
   "cell_type": "code",
   "execution_count": 4,
   "metadata": {},
   "outputs": [],
   "source": [
    "input_folder = './data/raw/'"
   ]
  },
  {
   "cell_type": "code",
   "execution_count": 5,
   "metadata": {},
   "outputs": [],
   "source": [
    "cleaned_folder = './data/processed/advanced/'"
   ]
  },
  {
   "cell_type": "code",
   "execution_count": 6,
   "metadata": {},
   "outputs": [],
   "source": [
    "output_folder = './reports/figures/advanced/'"
   ]
  },
  {
   "cell_type": "markdown",
   "metadata": {},
   "source": [
    "## Data import"
   ]
  },
  {
   "cell_type": "markdown",
   "metadata": {},
   "source": [
    "With the objective of creating a model that can be applied to the financially excluded, I deselected columns with data related to credit bureau, bank related data and formal loans.\n",
    "\n",
    "The data dictionary can be found here:\n",
    "https://www.kaggle.com/c/home-credit-default-risk/data?select=HomeCredit_columns_description.csv"
   ]
  },
  {
   "cell_type": "code",
   "execution_count": 7,
   "metadata": {},
   "outputs": [],
   "source": [
    "# Select columns which can be used by financially excluded\n",
    "column_selection = ['SK_ID_CURR', 'TARGET', 'NAME_CONTRACT_TYPE',\n",
    "                    'CODE_GENDER', 'FLAG_OWN_CAR', 'FLAG_OWN_REALTY',\n",
    "                    'CNT_CHILDREN', 'NAME_TYPE_SUITE', 'NAME_INCOME_TYPE',\n",
    "                    'NAME_EDUCATION_TYPE', 'NAME_FAMILY_STATUS',\n",
    "                    'NAME_HOUSING_TYPE', 'REGION_POPULATION_RELATIVE',\n",
    "                    'DAYS_BIRTH', 'DAYS_EMPLOYED', 'DAYS_REGISTRATION',\n",
    "                    'DAYS_ID_PUBLISH', 'OWN_CAR_AGE', 'FLAG_MOBIL',\n",
    "                    'FLAG_EMP_PHONE', 'FLAG_WORK_PHONE', 'FLAG_CONT_MOBILE',\n",
    "                    'FLAG_PHONE', 'FLAG_EMAIL', 'OCCUPATION_TYPE',\n",
    "                    'CNT_FAM_MEMBERS', 'REGION_RATING_CLIENT',\n",
    "                    'REGION_RATING_CLIENT_W_CITY', 'WEEKDAY_APPR_PROCESS_START',\n",
    "                    'HOUR_APPR_PROCESS_START', 'REG_REGION_NOT_LIVE_REGION',\n",
    "                    'REG_REGION_NOT_WORK_REGION', 'LIVE_REGION_NOT_WORK_REGION',\n",
    "                    'REG_CITY_NOT_LIVE_CITY', 'REG_CITY_NOT_WORK_CITY',\n",
    "                    'LIVE_CITY_NOT_WORK_CITY', 'ORGANIZATION_TYPE',\n",
    "                    'APARTMENTS_AVG', 'BASEMENTAREA_AVG',\n",
    "                    'YEARS_BEGINEXPLUATATION_AVG', 'YEARS_BUILD_AVG',\n",
    "                    'COMMONAREA_AVG', 'ELEVATORS_AVG', 'ENTRANCES_AVG',\n",
    "                    'FLOORSMAX_AVG', 'FLOORSMIN_AVG', 'LANDAREA_AVG',\n",
    "                    'LIVINGAPARTMENTS_AVG', 'LIVINGAREA_AVG',\n",
    "                    'NONLIVINGAPARTMENTS_AVG', 'NONLIVINGAREA_AVG',\n",
    "                    'APARTMENTS_MODE', 'BASEMENTAREA_MODE',\n",
    "                    'YEARS_BEGINEXPLUATATION_MODE', 'YEARS_BUILD_MODE',\n",
    "                    'COMMONAREA_MODE', 'ELEVATORS_MODE', 'ENTRANCES_MODE',\n",
    "                    'FLOORSMAX_MODE', 'FLOORSMIN_MODE', 'LANDAREA_MODE',\n",
    "                    'LIVINGAPARTMENTS_MODE', 'LIVINGAREA_MODE',\n",
    "                    'NONLIVINGAPARTMENTS_MODE', 'NONLIVINGAREA_MODE',\n",
    "                    'APARTMENTS_MEDI', 'BASEMENTAREA_MEDI',\n",
    "                    'YEARS_BEGINEXPLUATATION_MEDI', 'YEARS_BUILD_MEDI',\n",
    "                    'COMMONAREA_MEDI', 'ELEVATORS_MEDI', 'ENTRANCES_MEDI',\n",
    "                    'FLOORSMAX_MEDI', 'FLOORSMIN_MEDI', 'LANDAREA_MEDI',\n",
    "                    'LIVINGAPARTMENTS_MEDI', 'LIVINGAREA_MEDI',\n",
    "                    'NONLIVINGAPARTMENTS_MEDI', 'NONLIVINGAREA_MEDI',\n",
    "                    'FONDKAPREMONT_MODE', 'HOUSETYPE_MODE', 'TOTALAREA_MODE',\n",
    "                    'WALLSMATERIAL_MODE', 'EMERGENCYSTATE_MODE',\n",
    "                    'OBS_30_CNT_SOCIAL_CIRCLE', 'DEF_30_CNT_SOCIAL_CIRCLE',\n",
    "                    'OBS_60_CNT_SOCIAL_CIRCLE', 'DEF_60_CNT_SOCIAL_CIRCLE',\n",
    "                    'DAYS_LAST_PHONE_CHANGE', 'FLAG_DOCUMENT_2',\n",
    "                    'FLAG_DOCUMENT_3', 'FLAG_DOCUMENT_4', 'FLAG_DOCUMENT_5',\n",
    "                    'FLAG_DOCUMENT_6', 'FLAG_DOCUMENT_7', 'FLAG_DOCUMENT_8',\n",
    "                    'FLAG_DOCUMENT_9', 'FLAG_DOCUMENT_10', 'FLAG_DOCUMENT_11',\n",
    "                    'FLAG_DOCUMENT_12', 'FLAG_DOCUMENT_13', 'FLAG_DOCUMENT_14',\n",
    "                    'FLAG_DOCUMENT_15', 'FLAG_DOCUMENT_16', 'FLAG_DOCUMENT_17',\n",
    "                    'FLAG_DOCUMENT_18', 'FLAG_DOCUMENT_19', 'FLAG_DOCUMENT_20',\n",
    "                    'FLAG_DOCUMENT_21', 'AMT_INCOME_TOTAL', 'AMT_CREDIT',\n",
    "                    'AMT_ANNUITY', 'AMT_GOODS_PRICE']"
   ]
  },
  {
   "cell_type": "code",
   "execution_count": 8,
   "metadata": {},
   "outputs": [],
   "source": [
    "zip_file = ZipFile(input_folder + 'home-credit-default-risk.zip')\n",
    "application_train_df = pd.read_csv(zip_file.open('application_train.csv'), usecols=column_selection)"
   ]
  },
  {
   "cell_type": "code",
   "execution_count": 9,
   "metadata": {},
   "outputs": [],
   "source": [
    "# Remove outcome column from test data\n",
    "column_selection.remove('TARGET')"
   ]
  },
  {
   "cell_type": "code",
   "execution_count": 10,
   "metadata": {},
   "outputs": [],
   "source": [
    "zip_file = ZipFile(input_folder + 'home-credit-default-risk.zip')\n",
    "application_test_df = pd.read_csv(zip_file.open('application_test.csv'), usecols=column_selection)"
   ]
  },
  {
   "cell_type": "code",
   "execution_count": 11,
   "metadata": {},
   "outputs": [],
   "source": [
    "zip_file = ZipFile(input_folder + 'home-credit-default-risk.zip')\n",
    "credit_card_df = pd.read_csv(zip_file.open('credit_card_balance.csv'), usecols=('SK_ID_CURR', 'NAME_CONTRACT_STATUS'))"
   ]
  },
  {
   "cell_type": "code",
   "execution_count": 12,
   "metadata": {},
   "outputs": [],
   "source": [
    "zip_file = ZipFile(input_folder + 'home-credit-default-risk.zip')\n",
    "bureau_df = pd.read_csv(zip_file.open('bureau.csv'), usecols=('SK_ID_CURR', 'CREDIT_ACTIVE'))"
   ]
  },
  {
   "cell_type": "markdown",
   "metadata": {},
   "source": [
    "# Data cleaning"
   ]
  },
  {
   "cell_type": "markdown",
   "metadata": {},
   "source": [
    "## Select financially excluded"
   ]
  },
  {
   "cell_type": "markdown",
   "metadata": {},
   "source": [
    "First step is to select unbanked customers to later evaluate that the ML model doesn't classify them as repayment risk. In the dataset there is no data available on whether the customer has a bank account, which is usually the first formal financial product people start using. Instead, we will be classifying someone as unbanked if there is no credit card or credit bureau information available."
   ]
  },
  {
   "cell_type": "code",
   "execution_count": 13,
   "metadata": {},
   "outputs": [],
   "source": [
    "ID_fin_included_df = list(credit_card_df['SK_ID_CURR']) + list(bureau_df['SK_ID_CURR'])\n",
    "ID_fin_included_df = list(dict.fromkeys(ID_fin_included_df))"
   ]
  },
  {
   "cell_type": "code",
   "execution_count": 14,
   "metadata": {},
   "outputs": [],
   "source": [
    "ID_all_applicants = application_train_df['SK_ID_CURR']\n",
    "ID_fin_excluded = list(set(list(ID_all_applicants)) - set(ID_fin_included_df))\n",
    "ID_fin_excluded_df = pd.DataFrame(ID_fin_excluded, columns=['SK_ID_CURR'])"
   ]
  },
  {
   "cell_type": "markdown",
   "metadata": {},
   "source": [
    "## General"
   ]
  },
  {
   "cell_type": "code",
   "execution_count": 15,
   "metadata": {},
   "outputs": [],
   "source": [
    "# Merge test and train data for cleaning with column to distinguish\n",
    "application_test_df['train'] = 0\n",
    "application_train_df['train'] = 1\n",
    "application_df = pd.concat([application_train_df, application_test_df]).reset_index(drop=True)"
   ]
  },
  {
   "cell_type": "code",
   "execution_count": 16,
   "metadata": {},
   "outputs": [],
   "source": [
    "application_test_df = application_test_df.copy()"
   ]
  },
  {
   "cell_type": "code",
   "execution_count": 17,
   "metadata": {},
   "outputs": [
    {
     "data": {
      "text/plain": [
       "(356255, 114)"
      ]
     },
     "execution_count": 17,
     "metadata": {},
     "output_type": "execute_result"
    }
   ],
   "source": [
    "application_df.shape"
   ]
  },
  {
   "cell_type": "markdown",
   "metadata": {},
   "source": [
    "## Continuous variables"
   ]
  },
  {
   "cell_type": "markdown",
   "metadata": {},
   "source": [
    "### Data transformations"
   ]
  },
  {
   "cell_type": "code",
   "execution_count": 19,
   "metadata": {},
   "outputs": [],
   "source": [
    "# Log transform variables as per EDA\n",
    "application_df['AMT_INCOME_TOTAL_log'] = np.log(application_df['AMT_INCOME_TOTAL'])\n",
    "application_df['AMT_CREDIT_log'] = np.log(application_df['AMT_CREDIT'])\n",
    "application_df['AMT_ANNUITY_log'] = np.log(application_df['AMT_ANNUITY'])\n",
    "application_df['AMT_GOODS_PRICE_log'] = np.log(application_df['AMT_GOODS_PRICE'])"
   ]
  },
  {
   "cell_type": "code",
   "execution_count": 20,
   "metadata": {},
   "outputs": [],
   "source": [
    "# Make negative values positive in preparation of log transformation\n",
    "# Remove zero values by adding 1\n",
    "application_df['DAYS_REGISTRATION'] = application_df['DAYS_REGISTRATION'] * -1 + 1\n",
    "# Log transformation\n",
    "application_df['DAYS_REGISTRATION_log'] = np.log(application_df['DAYS_REGISTRATION'])"
   ]
  },
  {
   "cell_type": "code",
   "execution_count": 21,
   "metadata": {},
   "outputs": [],
   "source": [
    "# Drop log transformed variables\n",
    "cols_to_drop = ['AMT_INCOME_TOTAL', 'AMT_CREDIT', 'AMT_ANNUITY', 'AMT_GOODS_PRICE', 'DAYS_REGISTRATION']\n",
    "application_df.drop(cols_to_drop, axis=1, inplace=True)"
   ]
  },
  {
   "cell_type": "markdown",
   "metadata": {},
   "source": [
    "### Outlier removal"
   ]
  },
  {
   "cell_type": "code",
   "execution_count": 22,
   "metadata": {},
   "outputs": [],
   "source": [
    "column_selection = list(application_df.select_dtypes(include=['float64']))"
   ]
  },
  {
   "cell_type": "code",
   "execution_count": 23,
   "metadata": {},
   "outputs": [
    {
     "data": {
      "text/plain": [
       "(356255, 114)"
      ]
     },
     "execution_count": 23,
     "metadata": {},
     "output_type": "execute_result"
    }
   ],
   "source": [
    "application_df.shape"
   ]
  },
  {
   "cell_type": "code",
   "execution_count": 24,
   "metadata": {},
   "outputs": [
    {
     "name": "stdout",
     "output_type": "stream",
     "text": [
      "Outliers dropped: 2.8005220979354672 %\n"
     ]
    }
   ],
   "source": [
    "# Remove outliers in continous features using IQR based on columns selected in exploratory analysis\n",
    "column_selection = list(application_df.select_dtypes(include=['float64']))\n",
    "\n",
    "column_selection.remove('TARGET')\n",
    "dataframe = application_df\n",
    "rows_remove = []\n",
    "\n",
    "for column in column_selection:\n",
    "    IQR_sorted = sorted(dataframe[column])\n",
    "    IQR = dataframe[column].median()\n",
    "    Q1 = np.percentile(IQR_sorted, [25])\n",
    "    Q3 = np.percentile(IQR_sorted, [75])\n",
    "    lower_bound = (Q1 - (1.6 * IQR)).item()\n",
    "    upper_bound = (Q3 + (1.6 * IQR)).item()\n",
    "    rows = dataframe[(dataframe[column] < lower_bound) | (dataframe[column] > upper_bound)].index.tolist()\n",
    "    rows_remove = rows_remove + rows\n",
    "\n",
    "print(\"Outliers dropped:\", (len(rows_remove) / len(dataframe.index)) * 100, '%')\n",
    "\n",
    "# Drop outlier customers from dataframe\n",
    "application_df = application_df.loc[~application_df.index.isin(rows_remove)]"
   ]
  },
  {
   "cell_type": "code",
   "execution_count": 25,
   "metadata": {},
   "outputs": [
    {
     "data": {
      "text/plain": [
       "(346278, 114)"
      ]
     },
     "execution_count": 25,
     "metadata": {},
     "output_type": "execute_result"
    }
   ],
   "source": [
    "application_df.shape"
   ]
  },
  {
   "cell_type": "markdown",
   "metadata": {},
   "source": [
    "## Categorical data"
   ]
  },
  {
   "cell_type": "code",
   "execution_count": 26,
   "metadata": {},
   "outputs": [],
   "source": [
    "application_df = application_df.copy()"
   ]
  },
  {
   "cell_type": "markdown",
   "metadata": {},
   "source": [
    "### Outlier removal"
   ]
  },
  {
   "cell_type": "code",
   "execution_count": 27,
   "metadata": {},
   "outputs": [
    {
     "name": "stderr",
     "output_type": "stream",
     "text": [
      "C:\\Users\\michiel.HEPSTAR\\AppData\\Local\\Continuum\\anaconda3a\\lib\\site-packages\\pandas\\core\\indexing.py:670: SettingWithCopyWarning: \n",
      "A value is trying to be set on a copy of a slice from a DataFrame\n",
      "\n",
      "See the caveats in the documentation: https://pandas.pydata.org/pandas-docs/stable/user_guide/indexing.html#returning-a-view-versus-a-copy\n",
      "  iloc._setitem_with_indexer(indexer, value)\n"
     ]
    }
   ],
   "source": [
    "# Recode organisation subcategories into one main category (eg 'Trade: type 6 -> 'Trade)\n",
    "column = application_df['ORGANIZATION_TYPE']\n",
    "types = ['Trade', 'Industry', 'Transport', 'Business']\n",
    "\n",
    "for item in types:\n",
    "    column.loc[column.str.startswith(item, na=False)] = item"
   ]
  },
  {
   "cell_type": "code",
   "execution_count": 28,
   "metadata": {},
   "outputs": [],
   "source": [
    "# Create 'Other' category for categorical outliers\n",
    "threshold = 0.01\n",
    "dataframe = application_df\n",
    "for col in dataframe[['ORGANIZATION_TYPE', 'OCCUPATION_TYPE', 'NAME_INCOME_TYPE']]:\n",
    "    value_counts = dataframe[col].value_counts(normalize=True)\n",
    "    below_threshold = value_counts[value_counts <= threshold].index.tolist()\n",
    "    dataframe[col].replace(to_replace=below_threshold, value=\"Other2\", inplace=True)"
   ]
  },
  {
   "cell_type": "code",
   "execution_count": 29,
   "metadata": {},
   "outputs": [],
   "source": [
    "# Remove rows with outlier categorical values\n",
    "column_selection = list(application_df.select_dtypes(include=['object']))\n",
    "threshold_percent = 0.01\n",
    "\n",
    "for columns in column_selection:\n",
    "    # Select rows falling below threshold\n",
    "    rows_below_threshold = application_df[application_df[columns].map(application_df[columns].value_counts(normalize=True, dropna=False) < threshold_percent)]\n",
    "    if len(rows_below_threshold.index) > 0:\n",
    "        application_df.drop(rows_below_threshold.index, inplace=True)\n",
    "    else:\n",
    "        continue"
   ]
  },
  {
   "cell_type": "markdown",
   "metadata": {},
   "source": [
    "## Missing data"
   ]
  },
  {
   "cell_type": "code",
   "execution_count": 30,
   "metadata": {},
   "outputs": [],
   "source": [
    "# drop features with 50% or more missing data\n",
    "missing_data = application_df.isna().sum() / application_df.isna().count() * 100\n",
    "features_missing = list(missing_data[missing_data > 50].keys())\n",
    "application_df.drop(features_missing, axis=1, inplace=True)"
   ]
  },
  {
   "cell_type": "code",
   "execution_count": 31,
   "metadata": {},
   "outputs": [
    {
     "data": {
      "text/plain": [
       "0"
      ]
     },
     "execution_count": 31,
     "metadata": {},
     "output_type": "execute_result"
    }
   ],
   "source": [
    "# Replace 'XNA' with the most frequent occuring gender response\n",
    "freq = application_df['CODE_GENDER'].value_counts().index.tolist()[0]\n",
    "application_df['CODE_GENDER'].replace('XNA', freq, inplace=False)\n",
    "application_df['CODE_GENDER'].isna().sum()"
   ]
  },
  {
   "cell_type": "code",
   "execution_count": 32,
   "metadata": {},
   "outputs": [
    {
     "data": {
      "text/plain": [
       "TARGET                      13.462367\n",
       "OCCUPATION_TYPE             31.616569\n",
       "EMERGENCYSTATE_MODE         49.968847\n",
       "OBS_30_CNT_SOCIAL_CIRCLE     0.273091\n",
       "DEF_30_CNT_SOCIAL_CIRCLE     0.273091\n",
       "OBS_60_CNT_SOCIAL_CIRCLE     0.273091\n",
       "DEF_60_CNT_SOCIAL_CIRCLE     0.273091\n",
       "DAYS_LAST_PHONE_CHANGE       0.000310\n",
       "AMT_ANNUITY_log              0.009919\n",
       "dtype: float64"
      ]
     },
     "execution_count": 32,
     "metadata": {},
     "output_type": "execute_result"
    }
   ],
   "source": [
    "# Calculate the missing data % in training data\n",
    "missing = application_df.isna().sum() / application_df.isna().count() * 100\n",
    "missing = missing[missing > 0]\n",
    "missing"
   ]
  },
  {
   "cell_type": "code",
   "execution_count": 33,
   "metadata": {},
   "outputs": [
    {
     "name": "stdout",
     "output_type": "stream",
     "text": [
      "Cases from the following columns were dropped: ['OBS_30_CNT_SOCIAL_CIRCLE', 'DEF_30_CNT_SOCIAL_CIRCLE', 'OBS_60_CNT_SOCIAL_CIRCLE', 'DEF_60_CNT_SOCIAL_CIRCLE', 'DAYS_LAST_PHONE_CHANGE', 'AMT_ANNUITY_log']\n"
     ]
    }
   ],
   "source": [
    "# Drop cases with between 0-1% of missing data\n",
    "minimal_missing = missing[(missing > 0) & (missing < 1)]\n",
    "minimal_missing = list(minimal_missing.index)\n",
    "application_df.dropna(axis=0, subset=minimal_missing, inplace=True)\n",
    "print(\"Cases from the following columns were dropped:\", minimal_missing)"
   ]
  },
  {
   "cell_type": "code",
   "execution_count": 34,
   "metadata": {},
   "outputs": [
    {
     "data": {
      "text/plain": [
       "['TARGET', 'OCCUPATION_TYPE', 'EMERGENCYSTATE_MODE']"
      ]
     },
     "execution_count": 34,
     "metadata": {},
     "output_type": "execute_result"
    }
   ],
   "source": [
    "list(application_df.columns[application_df.isna().any()])"
   ]
  },
  {
   "cell_type": "code",
   "execution_count": 35,
   "metadata": {},
   "outputs": [],
   "source": [
    "# Predict the missing values of continous features\n",
    "num_columns = list(application_df.select_dtypes(include=['float64']).columns)\n",
    "df = application_df[num_columns].copy()\n",
    "\n",
    "cols_nan = list(df.columns[df.isna().any()])\n",
    "cols_no_nan = list(df.columns.difference(cols_nan).values)\n",
    "\n",
    "cols_nan.remove('TARGET')\n",
    "\n",
    "for col in cols_nan:\n",
    "    test_data = df[df[col].isna()]\n",
    "    train_data = df.dropna()\n",
    "    model = KNeighborsRegressor(n_neighbors=5).fit(train_data[cols_no_nan], train_data[col])\n",
    "    application_df.loc[application_df[col].isna(), col] = model.predict(test_data[cols_no_nan])"
   ]
  },
  {
   "cell_type": "code",
   "execution_count": 36,
   "metadata": {},
   "outputs": [],
   "source": [
    "# Predict missing data of categorical features\n",
    "df = application_df.copy()\n",
    "\n",
    "cols_nan = list(df.columns[df.isna().any()])\n",
    "cols_no_nan = df.columns.difference(cols_nan).values\n",
    "cat_var = list(df.select_dtypes(include=['O', 'object', 'datetime64']).columns)\n",
    "cols_no_nan = [x for x in cols_no_nan if x not in cat_var]\n",
    "\n",
    "cols_no_nan.remove('SK_ID_CURR')\n",
    "cols_nan.remove('TARGET')\n",
    "\n",
    "for col in cols_nan:\n",
    "    test_data = df[df[col].isna()]\n",
    "    train_data = df.dropna()\n",
    "    model = KNeighborsClassifier(n_neighbors=5).fit(train_data[cols_no_nan], train_data[col])\n",
    "    application_df.loc[application_df[col].isna(), col] = model.predict(test_data[cols_no_nan])"
   ]
  },
  {
   "cell_type": "code",
   "execution_count": 37,
   "metadata": {},
   "outputs": [
    {
     "data": {
      "text/plain": [
       "TARGET    13.48725\n",
       "dtype: float64"
      ]
     },
     "execution_count": 37,
     "metadata": {},
     "output_type": "execute_result"
    }
   ],
   "source": [
    "# Check remaining missing data % in training data\n",
    "train_missing_data = application_df.isna().sum() / application_df.isna().count() * 100\n",
    "train_missing_data[train_missing_data > 0]"
   ]
  },
  {
   "cell_type": "markdown",
   "metadata": {},
   "source": [
    "## Dummify categorical variables"
   ]
  },
  {
   "cell_type": "code",
   "execution_count": 38,
   "metadata": {},
   "outputs": [
    {
     "data": {
      "text/plain": [
       "(321689, 67)"
      ]
     },
     "execution_count": 38,
     "metadata": {},
     "output_type": "execute_result"
    }
   ],
   "source": [
    "application_df.shape"
   ]
  },
  {
   "cell_type": "code",
   "execution_count": 39,
   "metadata": {},
   "outputs": [],
   "source": [
    "# Dummify categorical features\n",
    "column_selection = list(application_df.select_dtypes(include=['object']))\n",
    "# Create dummies of categorical features\n",
    "application_df = pd.get_dummies(application_df, columns=column_selection, drop_first=True)"
   ]
  },
  {
   "cell_type": "code",
   "execution_count": 40,
   "metadata": {},
   "outputs": [
    {
     "data": {
      "text/plain": [
       "(321689, 104)"
      ]
     },
     "execution_count": 40,
     "metadata": {},
     "output_type": "execute_result"
    }
   ],
   "source": [
    "application_df.shape"
   ]
  },
  {
   "cell_type": "markdown",
   "metadata": {},
   "source": [
    "# Feature creation"
   ]
  },
  {
   "cell_type": "markdown",
   "metadata": {},
   "source": [
    "## Feature loan % of  income"
   ]
  },
  {
   "cell_type": "code",
   "execution_count": 41,
   "metadata": {},
   "outputs": [],
   "source": [
    "application_df = application_df.copy()"
   ]
  },
  {
   "cell_type": "code",
   "execution_count": 46,
   "metadata": {},
   "outputs": [],
   "source": [
    "application_df['creditVSincome'] = application_df['AMT_CREDIT_log'] / application_df['AMT_INCOME_TOTAL_log']"
   ]
  },
  {
   "cell_type": "markdown",
   "metadata": {},
   "source": [
    "## Polynominal feature creation"
   ]
  },
  {
   "cell_type": "code",
   "execution_count": 47,
   "metadata": {},
   "outputs": [],
   "source": [
    "# Create a list of features\n",
    "all_columns = list(application_df.select_dtypes(include=['float64', 'int64']))\n",
    "no_feat = ['index', 'TARGET', 'SK_ID_CURR', 'train']\n",
    "num_features = list(filter(lambda x: x not in no_feat, all_columns))"
   ]
  },
  {
   "cell_type": "code",
   "execution_count": 48,
   "metadata": {},
   "outputs": [],
   "source": [
    "def add_interactions(df):\n",
    "    # Get feature names\n",
    "    combos = list(combinations(list(df.columns), 2))\n",
    "    colnames = list(df.columns) + ['_'.join(x) for x in combos]\n",
    "\n",
    "    # Find interactions\n",
    "    poly = PolynomialFeatures(interaction_only=True, include_bias=False)\n",
    "    df = poly.fit_transform(df)\n",
    "    df = pd.DataFrame(df)\n",
    "    df.columns = colnames\n",
    "\n",
    "    # Remove interaction terms with all 0 values\n",
    "    noint_indicies = [i for i, x in enumerate(list((df == 0).all())) if x]\n",
    "    df = df.drop(df.columns[noint_indicies], axis=1)\n",
    "\n",
    "    return df\n",
    "# Credit: https://medium.com/joguei-os-dados/week-4-feature-engineering-4787fca0f809"
   ]
  },
  {
   "cell_type": "code",
   "execution_count": 49,
   "metadata": {},
   "outputs": [],
   "source": [
    "# Add polynominal features\n",
    "polynominal_df = add_interactions(application_df[num_features])"
   ]
  },
  {
   "cell_type": "code",
   "execution_count": 50,
   "metadata": {},
   "outputs": [],
   "source": [
    "application_df = application_df.merge(polynominal_df, how='outer')"
   ]
  },
  {
   "cell_type": "markdown",
   "metadata": {},
   "source": [
    "# Feature selection"
   ]
  },
  {
   "cell_type": "code",
   "execution_count": 51,
   "metadata": {},
   "outputs": [
    {
     "data": {
      "text/plain": [
       "(321711, 1265)"
      ]
     },
     "execution_count": 51,
     "metadata": {},
     "output_type": "execute_result"
    }
   ],
   "source": [
    "application_df.shape"
   ]
  },
  {
   "cell_type": "code",
   "execution_count": 52,
   "metadata": {},
   "outputs": [],
   "source": [
    "train_df = application_df[~application_df['TARGET'].isnull()]"
   ]
  },
  {
   "cell_type": "code",
   "execution_count": 53,
   "metadata": {},
   "outputs": [],
   "source": [
    "y = train_df['TARGET']"
   ]
  },
  {
   "cell_type": "code",
   "execution_count": 54,
   "metadata": {},
   "outputs": [],
   "source": [
    "# Create a list of features\n",
    "all_columns = list(train_df.columns)\n",
    "no_feat = ['TARGET', 'SK_ID_CURR', 'train']\n",
    "features = list(filter(lambda x: x not in no_feat, all_columns))"
   ]
  },
  {
   "cell_type": "markdown",
   "metadata": {},
   "source": [
    "# Square scores to make negative scores positive\n",
    "scores2 = np.square(scores)"
   ]
  },
  {
   "cell_type": "markdown",
   "metadata": {},
   "source": [
    "feature_scores_df = pd.DataFrame()\n",
    "feature_scores_df['features'] = features\n",
    "feature_scores_df['scores2'] = scores2"
   ]
  },
  {
   "cell_type": "markdown",
   "metadata": {},
   "source": [
    "feature_scores_df.mean()"
   ]
  },
  {
   "cell_type": "markdown",
   "metadata": {},
   "source": [
    "feature_scores_df"
   ]
  },
  {
   "cell_type": "markdown",
   "metadata": {},
   "source": [
    "feature_scores_df = feature_scores_df.sort_values(by='scores2', ascending=False)"
   ]
  },
  {
   "cell_type": "markdown",
   "metadata": {},
   "source": [
    "feature_scores_df.plot.bar()"
   ]
  },
  {
   "cell_type": "markdown",
   "metadata": {},
   "source": [
    "feature_scores_df"
   ]
  },
  {
   "cell_type": "markdown",
   "metadata": {},
   "source": [
    "# Select best performing features\n",
    "feature_selection = list(feature_scores_df[:20]['features'])\n",
    "feature_selection"
   ]
  },
  {
   "cell_type": "code",
   "execution_count": 55,
   "metadata": {},
   "outputs": [],
   "source": [
    "absCorrWithDep = []\n",
    "\n",
    "for var in features:\n",
    "    absCorrWithDep.append(abs(y.corr(train_df[var])))"
   ]
  },
  {
   "cell_type": "code",
   "execution_count": 56,
   "metadata": {},
   "outputs": [],
   "source": [
    "feature_scores_df = pd.DataFrame()\n",
    "feature_scores_df['features'] = features\n",
    "feature_scores_df['scores'] = absCorrWithDep"
   ]
  },
  {
   "cell_type": "code",
   "execution_count": 57,
   "metadata": {},
   "outputs": [
    {
     "data": {
      "text/plain": [
       "<AxesSubplot:>"
      ]
     },
     "execution_count": 57,
     "metadata": {},
     "output_type": "execute_result"
    },
    {
     "data": {
      "image/png": "[encoded data removed]",
      "text/plain": [
       "<Figure size 432x288 with 1 Axes>"
      ]
     },
     "metadata": {
      "needs_background": "light"
     },
     "output_type": "display_data"
    }
   ],
   "source": [
    "feature_scores_df = feature_scores_df.sort_values(by='scores', ascending=False)\n",
    "feature_scores_df.plot.bar()"
   ]
  },
  {
   "cell_type": "code",
   "execution_count": 58,
   "metadata": {},
   "outputs": [],
   "source": [
    "feature_scores_df.drop_duplicates(subset=['scores'], keep='first', inplace=True)"
   ]
  },
  {
   "cell_type": "code",
   "execution_count": 59,
   "metadata": {},
   "outputs": [
    {
     "data": {
      "text/plain": [
       "120"
      ]
     },
     "execution_count": 59,
     "metadata": {},
     "output_type": "execute_result"
    }
   ],
   "source": [
    "threshold = 0.04\n",
    "feature_selection = list(feature_scores_df[feature_scores_df['scores'] > threshold]['features'])\n",
    "len(feature_selection)"
   ]
  },
  {
   "cell_type": "markdown",
   "metadata": {},
   "source": [
    "# Multi-collineairity"
   ]
  },
  {
   "cell_type": "code",
   "execution_count": 60,
   "metadata": {},
   "outputs": [
    {
     "name": "stdout",
     "output_type": "stream",
     "text": [
      "        VIF Factor                                   features\n",
      "0    327094.448184            DAYS_BIRTH_AMT_INCOME_TOTAL_log\n",
      "1     26989.457854             DAYS_BIRTH_AMT_GOODS_PRICE_log\n",
      "2       133.047233           DAYS_BIRTH_DAYS_REGISTRATION_log\n",
      "3    334415.363457                                 DAYS_BIRTH\n",
      "4       973.430867                DAYS_BIRTH_FLAG_CONT_MOBILE\n",
      "..             ...                                        ...\n",
      "115    2242.349165       FLAG_DOCUMENT_3_AMT_INCOME_TOTAL_log\n",
      "116    1436.861166             FLAG_DOCUMENT_3_creditVSincome\n",
      "117      19.362473          DAYS_BIRTH_REG_CITY_NOT_LIVE_CITY\n",
      "118      26.996189  AMT_GOODS_PRICE_log_DAYS_REGISTRATION_log\n",
      "119       8.401920     CNT_FAM_MEMBERS_REG_CITY_NOT_LIVE_CITY\n",
      "\n",
      "[120 rows x 2 columns]\n"
     ]
    }
   ],
   "source": [
    "# Calculate the Variation Inflation factor (VIF)\n",
    "X = application_df[feature_selection]\n",
    "vif = pd.DataFrame()\n",
    "vif['VIF Factor'] = [variance_inflation_factor(X.values, i) for i in range(X.shape[1])]\n",
    "vif['features'] = X.columns\n",
    "print(vif)"
   ]
  },
  {
   "cell_type": "code",
   "execution_count": 61,
   "metadata": {},
   "outputs": [
    {
     "data": {
      "text/html": [
       "<div>\n",
       "<style scoped>\n",
       "    .dataframe tbody tr th:only-of-type {\n",
       "        vertical-align: middle;\n",
       "    }\n",
       "\n",
       "    .dataframe tbody tr th {\n",
       "        vertical-align: top;\n",
       "    }\n",
       "\n",
       "    .dataframe thead th {\n",
       "        text-align: right;\n",
       "    }\n",
       "</style>\n",
       "<table border=\"1\" class=\"dataframe\">\n",
       "  <thead>\n",
       "    <tr style=\"text-align: right;\">\n",
       "      <th></th>\n",
       "      <th>features</th>\n",
       "      <th>scores</th>\n",
       "      <th>VIF Factor</th>\n",
       "    </tr>\n",
       "  </thead>\n",
       "  <tbody>\n",
       "    <tr>\n",
       "      <th>0</th>\n",
       "      <td>DAYS_BIRTH_AMT_INCOME_TOTAL_log</td>\n",
       "      <td>0.082234</td>\n",
       "      <td>327094.448184</td>\n",
       "    </tr>\n",
       "    <tr>\n",
       "      <th>1</th>\n",
       "      <td>DAYS_BIRTH_AMT_GOODS_PRICE_log</td>\n",
       "      <td>0.081817</td>\n",
       "      <td>26989.457854</td>\n",
       "    </tr>\n",
       "    <tr>\n",
       "      <th>2</th>\n",
       "      <td>DAYS_BIRTH_DAYS_REGISTRATION_log</td>\n",
       "      <td>0.081294</td>\n",
       "      <td>133.047233</td>\n",
       "    </tr>\n",
       "    <tr>\n",
       "      <th>3</th>\n",
       "      <td>DAYS_BIRTH</td>\n",
       "      <td>0.080842</td>\n",
       "      <td>334415.363457</td>\n",
       "    </tr>\n",
       "    <tr>\n",
       "      <th>4</th>\n",
       "      <td>DAYS_BIRTH_FLAG_CONT_MOBILE</td>\n",
       "      <td>0.079939</td>\n",
       "      <td>973.430867</td>\n",
       "    </tr>\n",
       "    <tr>\n",
       "      <th>...</th>\n",
       "      <td>...</td>\n",
       "      <td>...</td>\n",
       "      <td>...</td>\n",
       "    </tr>\n",
       "    <tr>\n",
       "      <th>1165</th>\n",
       "      <td>REGION_RATING_CLIENT_FLAG_DOCUMENT_8</td>\n",
       "      <td>0.000041</td>\n",
       "      <td>NaN</td>\n",
       "    </tr>\n",
       "    <tr>\n",
       "      <th>1166</th>\n",
       "      <td>FLAG_DOCUMENT_16_FLAG_DOCUMENT_20</td>\n",
       "      <td>0.000033</td>\n",
       "      <td>NaN</td>\n",
       "    </tr>\n",
       "    <tr>\n",
       "      <th>1167</th>\n",
       "      <td>FLAG_EMAIL_creditVSincome</td>\n",
       "      <td>0.000028</td>\n",
       "      <td>NaN</td>\n",
       "    </tr>\n",
       "    <tr>\n",
       "      <th>1168</th>\n",
       "      <td>OBS_30_CNT_SOCIAL_CIRCLE_OBS_60_CNT_SOCIAL_CIRCLE</td>\n",
       "      <td>0.000008</td>\n",
       "      <td>NaN</td>\n",
       "    </tr>\n",
       "    <tr>\n",
       "      <th>1169</th>\n",
       "      <td>FLAG_MOBIL</td>\n",
       "      <td>NaN</td>\n",
       "      <td>NaN</td>\n",
       "    </tr>\n",
       "  </tbody>\n",
       "</table>\n",
       "<p>1170 rows × 3 columns</p>\n",
       "</div>"
      ],
      "text/plain": [
       "                                               features    scores  \\\n",
       "0                       DAYS_BIRTH_AMT_INCOME_TOTAL_log  0.082234   \n",
       "1                        DAYS_BIRTH_AMT_GOODS_PRICE_log  0.081817   \n",
       "2                      DAYS_BIRTH_DAYS_REGISTRATION_log  0.081294   \n",
       "3                                            DAYS_BIRTH  0.080842   \n",
       "4                           DAYS_BIRTH_FLAG_CONT_MOBILE  0.079939   \n",
       "...                                                 ...       ...   \n",
       "1165               REGION_RATING_CLIENT_FLAG_DOCUMENT_8  0.000041   \n",
       "1166                  FLAG_DOCUMENT_16_FLAG_DOCUMENT_20  0.000033   \n",
       "1167                          FLAG_EMAIL_creditVSincome  0.000028   \n",
       "1168  OBS_30_CNT_SOCIAL_CIRCLE_OBS_60_CNT_SOCIAL_CIRCLE  0.000008   \n",
       "1169                                         FLAG_MOBIL       NaN   \n",
       "\n",
       "         VIF Factor  \n",
       "0     327094.448184  \n",
       "1      26989.457854  \n",
       "2        133.047233  \n",
       "3     334415.363457  \n",
       "4        973.430867  \n",
       "...             ...  \n",
       "1165            NaN  \n",
       "1166            NaN  \n",
       "1167            NaN  \n",
       "1168            NaN  \n",
       "1169            NaN  \n",
       "\n",
       "[1170 rows x 3 columns]"
      ]
     },
     "execution_count": 61,
     "metadata": {},
     "output_type": "execute_result"
    }
   ],
   "source": [
    "vif_corr = pd.merge(feature_scores_df, vif, how='left', on='features')\n",
    "vif_corr"
   ]
  },
  {
   "cell_type": "code",
   "execution_count": 62,
   "metadata": {},
   "outputs": [],
   "source": [
    "features_to_drop_1 = ['DAYS_BIRTH_FLAG_MOBIL', 'FLAG_MOBIL_DAYS_LAST_PHONE_CHANGE', 'FLAG_MOBIL_REGION_RATING_CLIENT_W_CITY',\n",
    "                      'DAYS_ID_PUBLISH_FLAG_MOBIL', 'FLAG_MOBIL_REGION_RATING_CLIENT', 'FLAG_MOBIL_REG_CITY_NOT_WORK_CITY',\n",
    "                      'REGION_RATING_CLIENT_W_CITY_REG_CITY_NOT_LIVE_CITY', 'DAYS_BIRTH_FLAG_CONT_MOBILE',\n",
    "                      'REGION_RATING_CLIENT_W_CITY_REG_CITY_NOT_WORK_CITY', 'REGION_RATING_CLIENT_FLAG_DOCUMENT_3', 'FLAG_MOBIL_DAYS_LAST_PHONE_CHANGE',\n",
    "                      'FLAG_CONT_MOBILE_REGION_RATING_CLIENT_W_CITY', 'DAYS_ID_PUBLISH_FLAG_CONT_MOBILE', 'FLAG_CONT_MOBILE_REGION_RATING_CLIENT',\n",
    "                      'FLAG_MOBIL_REG_CITY_NOT_WORK_CITY', 'REGION_RATING_CLIENT_REG_CITY_NOT_LIVE_CITY', 'FLAG_EMP_PHONE_REG_CITY_NOT_WORK_CITY',\n",
    "                      'DAYS_BIRTH', 'FLAG_MOBIL_REG_CITY_NOT_WORK_CITY', 'FLAG_EMP_PHONE_REGION_RATING_CLIENT']"
   ]
  },
  {
   "cell_type": "code",
   "execution_count": 63,
   "metadata": {},
   "outputs": [],
   "source": [
    "# Drop highly collineair features\n",
    "application_df.drop(columns=features_to_drop_1, inplace=True)"
   ]
  },
  {
   "cell_type": "code",
   "execution_count": 64,
   "metadata": {},
   "outputs": [],
   "source": [
    "feature_selection = list(set(feature_selection) - set(features_to_drop_1))"
   ]
  },
  {
   "cell_type": "code",
   "execution_count": 65,
   "metadata": {},
   "outputs": [
    {
     "name": "stdout",
     "output_type": "stream",
     "text": [
      "        VIF Factor                                           features\n",
      "0      8605.487041                     FLAG_EMP_PHONE_AMT_ANNUITY_log\n",
      "1     16559.473467                DAYS_ID_PUBLISH_AMT_GOODS_PRICE_log\n",
      "2        23.906666        REGION_RATING_CLIENT_REG_CITY_NOT_WORK_CITY\n",
      "3    166697.685981                  DAYS_EMPLOYED_AMT_GOODS_PRICE_log\n",
      "4        35.654930                  DAYS_BIRTH_DAYS_LAST_PHONE_CHANGE\n",
      "..             ...                                                ...\n",
      "100       7.479148  REGION_POPULATION_RELATIVE_DAYS_LAST_PHONE_CHANGE\n",
      "101      16.743933     HOUR_APPR_PROCESS_START_REG_CITY_NOT_WORK_CITY\n",
      "102      61.231028                       DAYS_EMPLOYED_FLAG_EMP_PHONE\n",
      "103     879.277085            FLAG_CONT_MOBILE_REG_CITY_NOT_WORK_CITY\n",
      "104    1602.906649                          DAYS_BIRTH_creditVSincome\n",
      "\n",
      "[105 rows x 2 columns]\n"
     ]
    }
   ],
   "source": [
    "# Calculate the Variation Inflation factor (VIF)\n",
    "X = application_df[feature_selection]\n",
    "vif = pd.DataFrame()\n",
    "vif['VIF Factor'] = [variance_inflation_factor(X.values, i) for i in range(X.shape[1])]\n",
    "vif['features'] = X.columns\n",
    "print(vif)"
   ]
  },
  {
   "cell_type": "code",
   "execution_count": 66,
   "metadata": {},
   "outputs": [
    {
     "data": {
      "text/html": [
       "<div>\n",
       "<style scoped>\n",
       "    .dataframe tbody tr th:only-of-type {\n",
       "        vertical-align: middle;\n",
       "    }\n",
       "\n",
       "    .dataframe tbody tr th {\n",
       "        vertical-align: top;\n",
       "    }\n",
       "\n",
       "    .dataframe thead th {\n",
       "        text-align: right;\n",
       "    }\n",
       "</style>\n",
       "<table border=\"1\" class=\"dataframe\">\n",
       "  <thead>\n",
       "    <tr style=\"text-align: right;\">\n",
       "      <th></th>\n",
       "      <th>features</th>\n",
       "      <th>scores</th>\n",
       "      <th>VIF Factor</th>\n",
       "    </tr>\n",
       "  </thead>\n",
       "  <tbody>\n",
       "    <tr>\n",
       "      <th>0</th>\n",
       "      <td>DAYS_BIRTH_AMT_INCOME_TOTAL_log</td>\n",
       "      <td>0.082234</td>\n",
       "      <td>912.554540</td>\n",
       "    </tr>\n",
       "    <tr>\n",
       "      <th>1</th>\n",
       "      <td>DAYS_BIRTH_AMT_GOODS_PRICE_log</td>\n",
       "      <td>0.081817</td>\n",
       "      <td>26934.807986</td>\n",
       "    </tr>\n",
       "    <tr>\n",
       "      <th>2</th>\n",
       "      <td>DAYS_BIRTH_DAYS_REGISTRATION_log</td>\n",
       "      <td>0.081294</td>\n",
       "      <td>132.790273</td>\n",
       "    </tr>\n",
       "    <tr>\n",
       "      <th>3</th>\n",
       "      <td>DAYS_BIRTH</td>\n",
       "      <td>0.080842</td>\n",
       "      <td>NaN</td>\n",
       "    </tr>\n",
       "    <tr>\n",
       "      <th>4</th>\n",
       "      <td>DAYS_BIRTH_FLAG_CONT_MOBILE</td>\n",
       "      <td>0.079939</td>\n",
       "      <td>NaN</td>\n",
       "    </tr>\n",
       "    <tr>\n",
       "      <th>...</th>\n",
       "      <td>...</td>\n",
       "      <td>...</td>\n",
       "      <td>...</td>\n",
       "    </tr>\n",
       "    <tr>\n",
       "      <th>1165</th>\n",
       "      <td>REGION_RATING_CLIENT_FLAG_DOCUMENT_8</td>\n",
       "      <td>0.000041</td>\n",
       "      <td>NaN</td>\n",
       "    </tr>\n",
       "    <tr>\n",
       "      <th>1166</th>\n",
       "      <td>FLAG_DOCUMENT_16_FLAG_DOCUMENT_20</td>\n",
       "      <td>0.000033</td>\n",
       "      <td>NaN</td>\n",
       "    </tr>\n",
       "    <tr>\n",
       "      <th>1167</th>\n",
       "      <td>FLAG_EMAIL_creditVSincome</td>\n",
       "      <td>0.000028</td>\n",
       "      <td>NaN</td>\n",
       "    </tr>\n",
       "    <tr>\n",
       "      <th>1168</th>\n",
       "      <td>OBS_30_CNT_SOCIAL_CIRCLE_OBS_60_CNT_SOCIAL_CIRCLE</td>\n",
       "      <td>0.000008</td>\n",
       "      <td>NaN</td>\n",
       "    </tr>\n",
       "    <tr>\n",
       "      <th>1169</th>\n",
       "      <td>FLAG_MOBIL</td>\n",
       "      <td>NaN</td>\n",
       "      <td>NaN</td>\n",
       "    </tr>\n",
       "  </tbody>\n",
       "</table>\n",
       "<p>1170 rows × 3 columns</p>\n",
       "</div>"
      ],
      "text/plain": [
       "                                               features    scores  \\\n",
       "0                       DAYS_BIRTH_AMT_INCOME_TOTAL_log  0.082234   \n",
       "1                        DAYS_BIRTH_AMT_GOODS_PRICE_log  0.081817   \n",
       "2                      DAYS_BIRTH_DAYS_REGISTRATION_log  0.081294   \n",
       "3                                            DAYS_BIRTH  0.080842   \n",
       "4                           DAYS_BIRTH_FLAG_CONT_MOBILE  0.079939   \n",
       "...                                                 ...       ...   \n",
       "1165               REGION_RATING_CLIENT_FLAG_DOCUMENT_8  0.000041   \n",
       "1166                  FLAG_DOCUMENT_16_FLAG_DOCUMENT_20  0.000033   \n",
       "1167                          FLAG_EMAIL_creditVSincome  0.000028   \n",
       "1168  OBS_30_CNT_SOCIAL_CIRCLE_OBS_60_CNT_SOCIAL_CIRCLE  0.000008   \n",
       "1169                                         FLAG_MOBIL       NaN   \n",
       "\n",
       "        VIF Factor  \n",
       "0       912.554540  \n",
       "1     26934.807986  \n",
       "2       132.790273  \n",
       "3              NaN  \n",
       "4              NaN  \n",
       "...            ...  \n",
       "1165           NaN  \n",
       "1166           NaN  \n",
       "1167           NaN  \n",
       "1168           NaN  \n",
       "1169           NaN  \n",
       "\n",
       "[1170 rows x 3 columns]"
      ]
     },
     "execution_count": 66,
     "metadata": {},
     "output_type": "execute_result"
    }
   ],
   "source": [
    "vif_corr = pd.merge(feature_scores_df, vif, how='left', on='features')\n",
    "vif_corr"
   ]
  },
  {
   "cell_type": "code",
   "execution_count": 67,
   "metadata": {},
   "outputs": [
    {
     "data": {
      "text/plain": [
       "['CNT_FAM_MEMBERS_REG_CITY_NOT_LIVE_CITY',\n",
       " 'DAYS_ID_PUBLISH_DAYS_LAST_PHONE_CHANGE',\n",
       " 'CNT_FAM_MEMBERS_REG_CITY_NOT_WORK_CITY',\n",
       " 'REG_CITY_NOT_LIVE_CITY_FLAG_DOCUMENT_3',\n",
       " 'CODE_GENDER_M',\n",
       " 'DAYS_EMPLOYED_DAYS_LAST_PHONE_CHANGE',\n",
       " 'REGION_POPULATION_RELATIVE_DAYS_BIRTH',\n",
       " 'FLAG_EMP_PHONE_FLAG_DOCUMENT_3',\n",
       " 'REG_CITY_NOT_WORK_CITY_FLAG_DOCUMENT_3',\n",
       " 'REGION_POPULATION_RELATIVE_DAYS_EMPLOYED',\n",
       " 'NAME_EDUCATION_TYPE_Secondary / secondary special',\n",
       " 'NAME_INCOME_TYPE_Working',\n",
       " 'REGION_POPULATION_RELATIVE_DAYS_ID_PUBLISH',\n",
       " 'CNT_FAM_MEMBERS_DAYS_LAST_PHONE_CHANGE',\n",
       " 'REGION_POPULATION_RELATIVE_DAYS_LAST_PHONE_CHANGE']"
      ]
     },
     "execution_count": 67,
     "metadata": {},
     "output_type": "execute_result"
    }
   ],
   "source": [
    "# select features below multi-collineairity threshold (VIF >10)\n",
    "multi_col = list(vif[vif['VIF Factor'] < 10]['features'])\n",
    "multi_col"
   ]
  },
  {
   "cell_type": "code",
   "execution_count": 68,
   "metadata": {},
   "outputs": [],
   "source": [
    "# select all required columns\n",
    "no_feat = ['TARGET', 'SK_ID_CURR', 'train']\n",
    "column_selection = multi_col + no_feat"
   ]
  },
  {
   "cell_type": "code",
   "execution_count": 69,
   "metadata": {},
   "outputs": [],
   "source": [
    "application_df = application_df[column_selection]"
   ]
  },
  {
   "cell_type": "code",
   "execution_count": 70,
   "metadata": {},
   "outputs": [
    {
     "data": {
      "text/plain": [
       "(321711, 18)"
      ]
     },
     "execution_count": 70,
     "metadata": {},
     "output_type": "execute_result"
    }
   ],
   "source": [
    "application_df.shape"
   ]
  },
  {
   "cell_type": "markdown",
   "metadata": {},
   "source": [
    "# Standardise features"
   ]
  },
  {
   "cell_type": "code",
   "execution_count": 71,
   "metadata": {},
   "outputs": [],
   "source": [
    "# Split test and train dataset\n",
    "train_df = application_df[application_df['train'] == 1].copy()\n",
    "test_df = application_df[application_df['train'] == 0].copy()\n",
    "\n",
    "train_df.drop(columns=['train'], inplace=True)\n",
    "test_df.drop(columns=['train'], inplace=True)"
   ]
  },
  {
   "cell_type": "code",
   "execution_count": 72,
   "metadata": {},
   "outputs": [],
   "source": [
    "# Split predictor and dependent variables\n",
    "predictor = 'TARGET'\n",
    "Y_train = train_df[predictor]\n",
    "X_train = train_df.drop(predictor, axis=1)\n",
    "test_df.drop(columns=predictor, inplace=True)"
   ]
  },
  {
   "cell_type": "code",
   "execution_count": 73,
   "metadata": {},
   "outputs": [],
   "source": [
    "# Create numpy array of SK_ID_CURR to later use for submission file\n",
    "test_ids_df = test_df['SK_ID_CURR']"
   ]
  },
  {
   "cell_type": "code",
   "execution_count": 74,
   "metadata": {},
   "outputs": [],
   "source": [
    "# Drop ID column\n",
    "test_df.drop(columns='SK_ID_CURR', inplace=True)\n",
    "X_train.drop(columns='SK_ID_CURR', inplace=True)"
   ]
  },
  {
   "cell_type": "code",
   "execution_count": 75,
   "metadata": {},
   "outputs": [],
   "source": [
    "# split the data into train and test datasets\n",
    "x_train, x_test, y_train, y_test = train_test_split(X_train, Y_train, test_size=0.3, random_state=10)"
   ]
  },
  {
   "cell_type": "code",
   "execution_count": 76,
   "metadata": {},
   "outputs": [],
   "source": [
    "# standardise the features\n",
    "ss = StandardScaler()\n",
    "x_train = pd.DataFrame(ss.fit_transform(x_train), columns=x_train.columns)\n",
    "x_test = pd.DataFrame(ss.fit_transform(x_test), columns=x_test.columns)\n",
    "test_df = pd.DataFrame(ss.fit_transform(test_df), columns=test_df.columns)"
   ]
  },
  {
   "cell_type": "markdown",
   "metadata": {},
   "source": [
    "# Data export"
   ]
  },
  {
   "cell_type": "code",
   "execution_count": 77,
   "metadata": {},
   "outputs": [],
   "source": [
    "# Export data to cleaned data folder\n",
    "x_train.to_csv(cleaned_folder + 'x_train.csv', index=False)\n",
    "x_test.to_csv(cleaned_folder + 'x_test.csv', index=False)\n",
    "y_train.to_csv(cleaned_folder + 'y_train.csv', index=False)\n",
    "y_test.to_csv(cleaned_folder + 'y_test.csv', index=False)\n",
    "test_df.to_csv(cleaned_folder + 'test_df.csv', index=False)\n",
    "test_ids_df.to_csv(cleaned_folder + 'test_ids_df.csv', index=False)\n",
    "ID_fin_excluded_df.to_csv(cleaned_folder + 'IDs_fin_excluded.csv', index=False)"
   ]
  }
 ],
 "metadata": {
  "kernelspec": {
   "display_name": "Python 3",
   "language": "python",
   "name": "python3"
  },
  "language_info": {
   "codemirror_mode": {
    "name": "ipython",
    "version": 3
   },
   "file_extension": ".py",
   "mimetype": "text/x-python",
   "name": "python",
   "nbconvert_exporter": "python",
   "pygments_lexer": "ipython3",
   "version": "3.6.12"
  }
 },
 "nbformat": 4,
 "nbformat_minor": 4
}
